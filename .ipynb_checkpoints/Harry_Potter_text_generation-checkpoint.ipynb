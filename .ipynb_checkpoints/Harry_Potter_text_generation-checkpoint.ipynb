{
 "cells": [
  {
   "cell_type": "code",
   "execution_count": 13,
   "id": "6dc930e7",
   "metadata": {},
   "outputs": [],
   "source": [
    "import transformers\n",
    "from transformers import GPT2Tokenizer, GPT2LMHeadModel\n",
    "\n",
    "transformers.logging.set_verbosity(transformers.logging.ERROR)\n",
    "\n",
    "tokenizer = GPT2Tokenizer.from_pretrained('gpt2')\n",
    "\n",
    "model = GPT2LMHeadModel.from_pretrained('./gpt2-HP')"
   ]
  },
  {
   "cell_type": "code",
   "execution_count": 14,
   "id": "896f9bdc",
   "metadata": {},
   "outputs": [
    {
     "name": "stdout",
     "output_type": "stream",
     "text": [
      "SEED => ' Harry and Hermione '\n",
      "Harry and Hermione looked at each other.\n",
      "“I’m sorry,” Harry said, “but I think we ought to go and get  something.   You know – ” He hesitated for a moment, then\n",
      "\n",
      "SEED => ' Harry looked up at Ginny and kissed her '\n",
      "Harry looked up at Ginny and kissed her.\n",
      "Ginny looked as though she was about to faint\".\n",
      "I'm so sorry,\" Harry said to her, \"I didn't mean to butt in, I meant to -\" 　\n",
      "\n",
      "SEED => ' Fred and George '\n",
      "Fred and George's bedroom was the most cluttered of the lot, with a bed, two sets of books, and a large bed crammed with what looked like candyflossed owls.\n",
      "Fred had broken into a pair of secateurs to\n",
      "\n"
     ]
    }
   ],
   "source": [
    "from transformers import pipeline\n",
    "\n",
    "\n",
    "def generate_HP(text):\n",
    "    inputs = tokenizer.encode(text, return_tensors=\"pt\")\n",
    "\n",
    "    output = model.generate(inputs, max_length = 50, num_beams = 5, no_repeat_ngram_size  = 2, early_stopping = True)\n",
    "\n",
    "    print(\"SEED => '\", text, \"'\")\n",
    "    print(tokenizer.decode(output[0], skip_special_tokens=True))\n",
    "    print()\n",
    "\n",
    "\n",
    "sentences = [\n",
    "    \"Harry and Hermione\",\n",
    "    \"Harry looked up at Ginny and kissed her\",\n",
    "    \"Fred and George\"\n",
    "]\n",
    "for sent in sentences:\n",
    "    generate_HP(sent)"
   ]
  },
  {
   "cell_type": "code",
   "execution_count": null,
   "id": "6214db9b",
   "metadata": {},
   "outputs": [],
   "source": []
  }
 ],
 "metadata": {
  "kernelspec": {
   "display_name": "Python 3 (ipykernel)",
   "language": "python",
   "name": "python3"
  },
  "language_info": {
   "codemirror_mode": {
    "name": "ipython",
    "version": 3
   },
   "file_extension": ".py",
   "mimetype": "text/x-python",
   "name": "python",
   "nbconvert_exporter": "python",
   "pygments_lexer": "ipython3",
   "version": "3.9.7"
  }
 },
 "nbformat": 4,
 "nbformat_minor": 5
}
